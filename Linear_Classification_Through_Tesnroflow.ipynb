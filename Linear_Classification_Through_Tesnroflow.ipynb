{
  "nbformat": 4,
  "nbformat_minor": 0,
  "metadata": {
    "colab": {
      "provenance": []
    },
    "kernelspec": {
      "name": "python3",
      "display_name": "Python 3"
    },
    "language_info": {
      "name": "python"
    }
  },
  "cells": [
    {
      "cell_type": "markdown",
      "source": [
        "# **Problem Statement: Predict whether income exceeds $50K/yr based on census data.**\n",
        "\n",
        "https://archive.ics.uci.edu/ml/datasets/adult"
      ],
      "metadata": {
        "id": "OrQNMgm4ecvd"
      }
    },
    {
      "cell_type": "markdown",
      "source": [
        "Student Name: Pushkal Suri\n",
        "Student ID: 100799314"
      ],
      "metadata": {
        "id": "-AJJw_8OR12i"
      }
    },
    {
      "cell_type": "code",
      "execution_count": 1,
      "metadata": {
        "id": "TeevDdovfUWI"
      },
      "outputs": [],
      "source": [
        "##Importing necessary Libraries\n",
        "import tensorflow as tf\n",
        "import pandas as pd\n",
        "import numpy as np\n",
        "import seaborn as sns\n",
        "from sklearn.metrics import confusion_matrix, classification_report\n",
        "import matplotlib.pyplot as plt"
      ]
    },
    {
      "cell_type": "code",
      "source": [
        "#setting the logging level to INFO for the TensorFlow\n",
        "tf.compat.v1.logging.set_verbosity(tf.compat.v1.logging.INFO)"
      ],
      "metadata": {
        "id": "DLWOlod-pQU-"
      },
      "execution_count": 2,
      "outputs": []
    },
    {
      "cell_type": "code",
      "source": [
        "Path = \"https://archive.ics.uci.edu/ml/machine-learning-databases/adult/adult.data\" #Assigning the variable for Training Dataset\n",
        "Path_Test = \"https://archive.ics.uci.edu/ml/machine-learning-databases/adult/adult.test\" #Assigning the variable for Test Dataset\n",
        "#Assigning coloumn names\n",
        "Columns = ['age','workclass','fnlwgt','education','education-num','marital-status','occupation','relationship','race','sex','capital-gain','capital-loss','hours-per-week','native-country','label']"
      ],
      "metadata": {
        "id": "Ez-7k5vmgnaC"
      },
      "execution_count": 3,
      "outputs": []
    },
    {
      "cell_type": "code",
      "source": [
        "df_train = pd.read_csv(Path,skipinitialspace=True,names=Columns,index_col=False) #Reading Training Data in pandas dataframe\n",
        "df_test = pd.read_csv(Path_Test,skiprows=1,skipinitialspace=True,names=Columns,index_col=False)#Reading Test Data in pandas dataframe"
      ],
      "metadata": {
        "id": "4OXC2nHzgzJZ"
      },
      "execution_count": 4,
      "outputs": []
    },
    {
      "cell_type": "code",
      "source": [
        "#Checking Shape of the training and test dataframes\n",
        "print(df_train.shape,df_test.shape)"
      ],
      "metadata": {
        "colab": {
          "base_uri": "https://localhost:8080/"
        },
        "id": "DS2TS5Thq0Is",
        "outputId": "c538d377-4bd3-476a-8a75-751300a37950"
      },
      "execution_count": 5,
      "outputs": [
        {
          "output_type": "stream",
          "name": "stdout",
          "text": [
            "(32561, 15) (16281, 15)\n"
          ]
        }
      ]
    },
    {
      "cell_type": "code",
      "source": [
        "#Checking Data Types of all the variables in Training Dataset\n",
        "df_train.dtypes"
      ],
      "metadata": {
        "colab": {
          "base_uri": "https://localhost:8080/"
        },
        "id": "Zs0qkRDtrC69",
        "outputId": "d6688ba2-f95d-4bd8-e8c2-ced71c01ecb0"
      },
      "execution_count": 6,
      "outputs": [
        {
          "output_type": "execute_result",
          "data": {
            "text/plain": [
              "age                int64\n",
              "workclass         object\n",
              "fnlwgt             int64\n",
              "education         object\n",
              "education-num      int64\n",
              "marital-status    object\n",
              "occupation        object\n",
              "relationship      object\n",
              "race              object\n",
              "sex               object\n",
              "capital-gain       int64\n",
              "capital-loss       int64\n",
              "hours-per-week     int64\n",
              "native-country    object\n",
              "label             object\n",
              "dtype: object"
            ]
          },
          "metadata": {},
          "execution_count": 6
        }
      ]
    },
    {
      "cell_type": "markdown",
      "source": [
        "**Data Pre-Processing**"
      ],
      "metadata": {
        "id": "BamcJQW0gwPo"
      }
    },
    {
      "cell_type": "code",
      "source": [
        "#Converting label column (Dependent) to Binary Class for Training and Test Data as \n",
        "#Tensorflow requires a Boolean value to train the classifier.\n",
        "label = {'<=50K':0,'>50K':1}\n",
        "df_train.label = [label[item] for item in df_train.label]\n",
        "label_t = {'<=50K.': 0,'>50K.': 1}\n",
        "df_test.label = [label_t[item] for item in df_test.label]"
      ],
      "metadata": {
        "id": "WE0QY3pBrQSa"
      },
      "execution_count": 7,
      "outputs": []
    },
    {
      "cell_type": "code",
      "source": [
        "#Checking Label Count for Training and Test Data\n",
        "print(df_train[\"label\"].value_counts())\n",
        "print(df_test[\"label\"].value_counts())"
      ],
      "metadata": {
        "colab": {
          "base_uri": "https://localhost:8080/"
        },
        "id": "sRabjoc5zLip",
        "outputId": "dd4f1293-768f-4be7-b400-8bfd6ca61a2f"
      },
      "execution_count": 8,
      "outputs": [
        {
          "output_type": "stream",
          "name": "stdout",
          "text": [
            "0    24720\n",
            "1     7841\n",
            "Name: label, dtype: int64\n",
            "0    12435\n",
            "1     3846\n",
            "Name: label, dtype: int64\n"
          ]
        }
      ]
    },
    {
      "cell_type": "code",
      "source": [
        "#Veryfing Label Object type Coloumn converting to Column type Integer\n",
        "df_train.dtypes"
      ],
      "metadata": {
        "colab": {
          "base_uri": "https://localhost:8080/"
        },
        "id": "uvd9u0NizqDw",
        "outputId": "1cec6371-2bca-499d-ff06-68f840c25bd5"
      },
      "execution_count": 9,
      "outputs": [
        {
          "output_type": "execute_result",
          "data": {
            "text/plain": [
              "age                int64\n",
              "workclass         object\n",
              "fnlwgt             int64\n",
              "education         object\n",
              "education-num      int64\n",
              "marital-status    object\n",
              "occupation        object\n",
              "relationship      object\n",
              "race              object\n",
              "sex               object\n",
              "capital-gain       int64\n",
              "capital-loss       int64\n",
              "hours-per-week     int64\n",
              "native-country    object\n",
              "label              int64\n",
              "dtype: object"
            ]
          },
          "metadata": {},
          "execution_count": 9
        }
      ]
    },
    {
      "cell_type": "code",
      "source": [
        "##Add features to the bucket: \n",
        "###Define continuous list\n",
        "continuous_features = ['age','fnlwgt','education-num','capital-gain','capital-loss','hours-per-week']\n",
        "### Define the categorical list\n",
        "categorical_features = ['workclass','education','marital-status','occupation','relationship','race','sex','native-country']"
      ],
      "metadata": {
        "id": "dj8Sok2Xz2fc"
      },
      "execution_count": 10,
      "outputs": []
    },
    {
      "cell_type": "code",
      "source": [
        "#Converting all the variables from continuous_features into a tensor with a numeric value. \n",
        "continuous_features_1 = [tf.feature_column.numeric_column(k) for k in continuous_features] #each feauture in continuous_features will be created into numeric feature column which will further used in Tensorflow model"
      ],
      "metadata": {
        "id": "QfniygKS1Lz6"
      },
      "execution_count": 11,
      "outputs": []
    },
    {
      "cell_type": "code",
      "source": [
        "#Converting all object variable to a categorical column in TensorFlow model.\n",
        "categorical_features_1 = [tf.feature_column.categorical_column_with_hash_bucket(k,hash_bucket_size=1000) for k in categorical_features] #Hash bucket technique is used to represent the categorical values as integers."
      ],
      "metadata": {
        "id": "eZ0nl-rYTJio"
      },
      "execution_count": 12,
      "outputs": []
    },
    {
      "cell_type": "markdown",
      "source": [
        "**Train the Classifier Model**"
      ],
      "metadata": {
        "id": "ynz-LQ6nqAme"
      }
    },
    {
      "cell_type": "code",
      "source": [
        "#importing feature column module to transforms raw input data into \n",
        "#a format that can be used as input to a TensorFlow model.\n",
        "from tensorflow.python.feature_column import feature_column \n",
        "#model will compute the weights of the columns contained in continuous_features_1 and categorical_features_1.\n",
        "model = tf.estimator.LinearClassifier(n_classes=2,model_dir=\"ongoing/train\",feature_columns =categorical_features_1+continuous_features_1)"
      ],
      "metadata": {
        "id": "xH3byNTfYE7P",
        "colab": {
          "base_uri": "https://localhost:8080/"
        },
        "outputId": "50435a35-2ffc-48bb-9a73-b3cc28578a93"
      },
      "execution_count": 13,
      "outputs": [
        {
          "output_type": "stream",
          "name": "stderr",
          "text": [
            "INFO:tensorflow:Using default config.\n",
            "INFO:tensorflow:Using config: {'_model_dir': 'ongoing/train', '_tf_random_seed': None, '_save_summary_steps': 100, '_save_checkpoints_steps': None, '_save_checkpoints_secs': 600, '_session_config': allow_soft_placement: true\n",
            "graph_options {\n",
            "  rewrite_options {\n",
            "    meta_optimizer_iterations: ONE\n",
            "  }\n",
            "}\n",
            ", '_keep_checkpoint_max': 5, '_keep_checkpoint_every_n_hours': 10000, '_log_step_count_steps': 100, '_train_distribute': None, '_device_fn': None, '_protocol': None, '_eval_distribute': None, '_experimental_distribute': None, '_experimental_max_worker_delay_secs': None, '_session_creation_timeout_secs': 7200, '_checkpoint_save_graph_def': True, '_service': None, '_cluster_spec': ClusterSpec({}), '_task_type': 'worker', '_task_id': 0, '_global_id_in_cluster': 0, '_master': '', '_evaluation_master': '', '_is_chief': True, '_num_ps_replicas': 0, '_num_worker_replicas': 1}\n"
          ]
        }
      ]
    },
    {
      "cell_type": "code",
      "source": [
        "#Creating a function with the arguments required by the linear estimator, i.e., \n",
        "#number of epochs, number of batches and shuffle the dataset or not\n",
        "Features = ['age','workclass','fnlwgt','education','education-num','marital-status','occupation','relationship','race','sex','capital-gain','capital-loss','hours-per-week','native-country']\n",
        "Label = 'label'\n",
        "def get_input_fn(data_set,num_epochs=None,n_batch=128,shuffle=True):\n",
        "    return tf.compat.v1.estimator.inputs.pandas_input_fn(\n",
        "        x=pd.DataFrame({k:data_set[k].values for k in Features}),#defining x variables as a pandas data frame and looping over all the data stored in Features\n",
        "        y = pd.Series(data_set[Label].values),\n",
        "        batch_size=n_batch,\n",
        "        num_epochs=num_epochs,\n",
        "        shuffle=shuffle\n",
        "    )"
      ],
      "metadata": {
        "id": "Wsjq1_qHXy_t"
      },
      "execution_count": 14,
      "outputs": []
    },
    {
      "cell_type": "code",
      "source": [
        "#Training the model useing the function defined above to feed the model with the appropriate values.\n",
        "#Model will be trained over 1000 steps\n",
        "model.train(input_fn=get_input_fn(df_train,num_epochs=None,n_batch=128,shuffle=False),steps=1000)"
      ],
      "metadata": {
        "colab": {
          "base_uri": "https://localhost:8080/"
        },
        "id": "BToQti4AbfXT",
        "outputId": "8eef51bf-24bf-4825-b5d0-b869087bdec6"
      },
      "execution_count": 15,
      "outputs": [
        {
          "output_type": "stream",
          "name": "stderr",
          "text": [
            "WARNING:tensorflow:From /usr/local/lib/python3.9/dist-packages/tensorflow/python/util/lazy_loader.py:59: The name tf.estimator.inputs is deprecated. Please use tf.compat.v1.estimator.inputs instead.\n",
            "\n",
            "WARNING:tensorflow:From /usr/local/lib/python3.9/dist-packages/tensorflow/python/training/training_util.py:396: Variable.initialized_value (from tensorflow.python.ops.variables) is deprecated and will be removed in a future version.\n",
            "Instructions for updating:\n",
            "Use Variable.read_value. Variables in 2.X are initialized automatically both in eager and graph (inside tf.defun) contexts.\n",
            "WARNING:tensorflow:From /usr/local/lib/python3.9/dist-packages/tensorflow_estimator/python/estimator/inputs/queues/feeding_queue_runner.py:60: QueueRunner.__init__ (from tensorflow.python.training.queue_runner_impl) is deprecated and will be removed in a future version.\n",
            "Instructions for updating:\n",
            "To construct input pipelines, use the `tf.data` module.\n",
            "WARNING:tensorflow:From /usr/local/lib/python3.9/dist-packages/tensorflow_estimator/python/estimator/inputs/queues/feeding_functions.py:491: add_queue_runner (from tensorflow.python.training.queue_runner_impl) is deprecated and will be removed in a future version.\n",
            "Instructions for updating:\n",
            "To construct input pipelines, use the `tf.data` module.\n",
            "INFO:tensorflow:Calling model_fn.\n",
            "WARNING:tensorflow:From /usr/local/lib/python3.9/dist-packages/keras/optimizers/optimizer_v2/ftrl.py:173: calling Constant.__init__ (from tensorflow.python.ops.init_ops) with dtype is deprecated and will be removed in a future version.\n",
            "Instructions for updating:\n",
            "Call initializer instance with the dtype argument instead of passing it to the constructor\n",
            "INFO:tensorflow:Done calling model_fn.\n",
            "INFO:tensorflow:Create CheckpointSaverHook.\n",
            "INFO:tensorflow:Graph was finalized.\n",
            "INFO:tensorflow:Running local_init_op.\n",
            "INFO:tensorflow:Done running local_init_op.\n",
            "WARNING:tensorflow:From /usr/local/lib/python3.9/dist-packages/tensorflow/python/training/monitored_session.py:910: start_queue_runners (from tensorflow.python.training.queue_runner_impl) is deprecated and will be removed in a future version.\n",
            "Instructions for updating:\n",
            "To construct input pipelines, use the `tf.data` module.\n",
            "INFO:tensorflow:Calling checkpoint listeners before saving checkpoint 0...\n",
            "INFO:tensorflow:Saving checkpoints for 0 into ongoing/train/model.ckpt.\n",
            "INFO:tensorflow:Calling checkpoint listeners after saving checkpoint 0...\n",
            "INFO:tensorflow:loss = 0.6931472, step = 0\n",
            "WARNING:tensorflow:It seems that global step (tf.train.get_global_step) has not been increased. Current value (could be stable): 49 vs previous value: 49. You could increase the global step by passing tf.train.get_global_step() to Optimizer.apply_gradients or Optimizer.minimize.\n",
            "INFO:tensorflow:global_step/sec: 51.6112\n",
            "INFO:tensorflow:loss = 600.3468, step = 100 (1.952 sec)\n",
            "WARNING:tensorflow:It seems that global step (tf.train.get_global_step) has not been increased. Current value (could be stable): 102 vs previous value: 102. You could increase the global step by passing tf.train.get_global_step() to Optimizer.apply_gradients or Optimizer.minimize.\n",
            "WARNING:tensorflow:It seems that global step (tf.train.get_global_step) has not been increased. Current value (could be stable): 198 vs previous value: 198. You could increase the global step by passing tf.train.get_global_step() to Optimizer.apply_gradients or Optimizer.minimize.\n",
            "INFO:tensorflow:global_step/sec: 118.688\n",
            "INFO:tensorflow:loss = 624.89026, step = 200 (0.830 sec)\n",
            "INFO:tensorflow:global_step/sec: 97.2605\n",
            "INFO:tensorflow:loss = 427.7835, step = 300 (1.031 sec)\n",
            "INFO:tensorflow:global_step/sec: 113.346\n",
            "INFO:tensorflow:loss = 188.6073, step = 400 (0.878 sec)\n",
            "INFO:tensorflow:global_step/sec: 125.098\n",
            "INFO:tensorflow:loss = 91.68619, step = 500 (0.797 sec)\n",
            "INFO:tensorflow:global_step/sec: 127.766\n",
            "INFO:tensorflow:loss = 242.69882, step = 600 (0.784 sec)\n",
            "WARNING:tensorflow:It seems that global step (tf.train.get_global_step) has not been increased. Current value (could be stable): 654 vs previous value: 654. You could increase the global step by passing tf.train.get_global_step() to Optimizer.apply_gradients or Optimizer.minimize.\n",
            "INFO:tensorflow:global_step/sec: 140.092\n",
            "INFO:tensorflow:loss = 208.35974, step = 700 (0.715 sec)\n",
            "INFO:tensorflow:global_step/sec: 101.428\n",
            "INFO:tensorflow:loss = 194.83597, step = 800 (0.981 sec)\n",
            "WARNING:tensorflow:It seems that global step (tf.train.get_global_step) has not been increased. Current value (could be stable): 847 vs previous value: 847. You could increase the global step by passing tf.train.get_global_step() to Optimizer.apply_gradients or Optimizer.minimize.\n",
            "INFO:tensorflow:global_step/sec: 111.993\n",
            "INFO:tensorflow:loss = 451.0161, step = 900 (0.893 sec)\n",
            "INFO:tensorflow:Calling checkpoint listeners before saving checkpoint 1000...\n",
            "INFO:tensorflow:Saving checkpoints for 1000 into ongoing/train/model.ckpt.\n",
            "INFO:tensorflow:Calling checkpoint listeners after saving checkpoint 1000...\n",
            "INFO:tensorflow:Loss for final step: 48.107098.\n"
          ]
        },
        {
          "output_type": "execute_result",
          "data": {
            "text/plain": [
              "<tensorflow_estimator.python.estimator.canned.linear.LinearClassifierV2 at 0x7f7133bc7b80>"
            ]
          },
          "metadata": {},
          "execution_count": 15
        }
      ]
    },
    {
      "cell_type": "code",
      "source": [
        "#feeding the model with the test set and set the number of epochs to 1, i.e., the data will go to the model only one time\n",
        "model.evaluate(input_fn=get_input_fn(df_test,num_epochs=1,n_batch=128,shuffle=False),steps=1000)"
      ],
      "metadata": {
        "colab": {
          "base_uri": "https://localhost:8080/"
        },
        "id": "TC3PBVs2dfJ-",
        "outputId": "2bc25832-8242-48f2-a8c3-5f889591fbe6"
      },
      "execution_count": 16,
      "outputs": [
        {
          "output_type": "stream",
          "name": "stderr",
          "text": [
            "INFO:tensorflow:Calling model_fn.\n",
            "INFO:tensorflow:Done calling model_fn.\n",
            "INFO:tensorflow:Starting evaluation at 2023-03-14T14:32:42\n",
            "INFO:tensorflow:Graph was finalized.\n",
            "INFO:tensorflow:Restoring parameters from ongoing/train/model.ckpt-1000\n",
            "INFO:tensorflow:Running local_init_op.\n",
            "INFO:tensorflow:Done running local_init_op.\n",
            "INFO:tensorflow:Evaluation [100/1000]\n",
            "INFO:tensorflow:Inference Time : 2.92700s\n",
            "INFO:tensorflow:Finished evaluation at 2023-03-14-14:32:45\n",
            "INFO:tensorflow:Saving dict for global step 1000: accuracy = 0.7953443, accuracy_baseline = 0.76377374, auc = 0.5890391, auc_precision_recall = 0.39350957, average_loss = 192.11894, global_step = 1000, label/mean = 0.23622628, loss = 191.51414, precision = 0.75803214, prediction/mean = 0.061201867, recall = 0.19630785\n",
            "INFO:tensorflow:Saving 'checkpoint_path' summary for global step 1000: ongoing/train/model.ckpt-1000\n"
          ]
        },
        {
          "output_type": "execute_result",
          "data": {
            "text/plain": [
              "{'accuracy': 0.7953443,\n",
              " 'accuracy_baseline': 0.76377374,\n",
              " 'auc': 0.5890391,\n",
              " 'auc_precision_recall': 0.39350957,\n",
              " 'average_loss': 192.11894,\n",
              " 'label/mean': 0.23622628,\n",
              " 'loss': 191.51414,\n",
              " 'precision': 0.75803214,\n",
              " 'prediction/mean': 0.061201867,\n",
              " 'recall': 0.19630785,\n",
              " 'global_step': 1000}"
            ]
          },
          "metadata": {},
          "execution_count": 16
        }
      ]
    },
    {
      "cell_type": "markdown",
      "source": [
        "**Defination of all the performance Matrix:**\n",
        "\n",
        "**accuracy:** This is the overall accuracy of the model, i.e., the proportion of correctly classified instances in the evaluation dataset.\n",
        "\n",
        "**accuracy_baseline**: This is the accuracy of a baseline model that always predicts the most frequent class in the evaluation dataset. This metric helps in determining whether the model is performing better than the baseline or not.\n",
        "\n",
        "**auc**: This is the Area Under the Receiver Operating Characteristic Curve (ROC AUC) metric, which is a measure of the model's ability to distinguish between positive and negative instances.\n",
        "\n",
        "**auc_precision_recall**: This is the Area Under the Precision-Recall Curve metric, which is another measure of the model's ability to distinguish between positive and negative instances.\n",
        "\n",
        "**average_loss**: This is the average loss incurred by the model on the evaluation dataset. The loss function is typically used to train the model and is a measure of how well the model is able to fit the training data.\n",
        "\n",
        "**label/mean**: This is the proportion of positive instances in the evaluation dataset.\n",
        "\n",
        "**loss**: This is the total loss incurred by the model on the evaluation dataset.\n",
        "\n",
        "**precision**: This is the precision of the model, i.e., the proportion of correctly classified positive instances among all instances predicted as positive.\n",
        "\n",
        "**prediction/mean**: This is the mean of the predicted values of the model on the evaluation dataset.\n",
        "\n",
        "**recall**: This is the recall of the model, i.e., the proportion of correctly classified positive instances among all true positive instances in the evaluation dataset.\n",
        "\n",
        "**global_step**: This is the number of training steps that the model has gone through. It is useful in determining how long the model has been trained and how stable the evaluation metrics are."
      ],
      "metadata": {
        "id": "T6U0Ads9pXRG"
      }
    },
    {
      "cell_type": "markdown",
      "source": [
        "**accuracy:** This metric represents the fraction of correctly predicted labels out of all samples. In this case, the model achieved an accuracy of 0.795, meaning that it correctly predicted the label for 79.5% of the samples.\n",
        "\n",
        "**accuracy_baseline:** This metric represents the accuracy of a \"baseline\" model that always predicts the majority class. In this case, the majority class has a label of 0. Therefore, the baseline accuracy would be the percentage of samples with label 0, which is 1 - 0.76377374 = 0.23622628. This means that the current model is performing better than the baseline model.\n",
        "\n",
        "**auc:** This metric represents the Area Under the ROC Curve, which is a measure of the model's ability to discriminate between positive and negative classes. An AUC of 0.5 indicates that the model is no better than random, while an AUC of 1.0 indicates perfect discrimination. In this case, the model achieved an AUC of 0.589, indicating a relatively weak ability to distinguish between the two classes.\n",
        "\n",
        "**auc_precision_recall:** This metric represents the area under the Precision-Recall Curve, which is another way to evaluate the model's ability to distinguish between the two classes. A higher AUCPR indicates a better ability to identify positive samples while maintaining a high precision. In this case, the model achieved an AUCPR of 0.394, which is relatively low.\n",
        "\n",
        "**average_loss:** This metric represents the average value of the loss function over all samples. The loss function is a measure of how well the model's predictions match the true labels. In this case, the average loss is 192.119, which is relatively high.\n",
        "\n",
        "**label/mean:** This metric represents the fraction of positive labels in the dataset. In this case, the fraction of positive labels is 0.23622628.\n",
        "\n",
        "**loss:** This metric represents the total value of the loss function over all samples. In this case, the total loss is 191.514, which is slightly lower than the average loss.\n",
        "\n",
        "**precision:** This metric represents the fraction of correctly predicted positive labels out of all predicted positive labels. In this case, the precision is 0.758, meaning that 75.8% of the samples predicted to be positive were actually positive.\n",
        "\n",
        "**prediction/mean:** This metric represents the average predicted value for all samples. In this case, the average predicted value is 0.061, which is relatively low.\n",
        "\n",
        "**recall:** This metric represents the fraction of correctly predicted positive labels out of all true positive labels. In this case, the recall is 0.196, meaning that the model correctly identified 19.6% of the positive samples.\n",
        "\n"
      ],
      "metadata": {
        "id": "H2-xpDC_wNjH"
      }
    },
    {
      "cell_type": "markdown",
      "source": [
        "**Making Confustion Matrix and Classification Report**"
      ],
      "metadata": {
        "id": "8qopzDmqq-mu"
      }
    },
    {
      "cell_type": "code",
      "source": [
        "#Converting Labels to Array\n",
        "labels_array = np.array(df_test.label)\n",
        "labels_array"
      ],
      "metadata": {
        "colab": {
          "base_uri": "https://localhost:8080/"
        },
        "id": "UrsSd3y2ofmD",
        "outputId": "1ef95bd7-88ff-4ab4-a817-1af461c3e183"
      },
      "execution_count": 17,
      "outputs": [
        {
          "output_type": "execute_result",
          "data": {
            "text/plain": [
              "array([0, 0, 1, ..., 0, 0, 1])"
            ]
          },
          "metadata": {},
          "execution_count": 17
        }
      ]
    },
    {
      "cell_type": "code",
      "source": [
        "#Calculating Predictions on test dataset\n",
        "predictions = model.predict(input_fn=get_input_fn(df_test,num_epochs=1,n_batch=128,shuffle=False))\n",
        "predicted_classes = [p[\"classes\"] for p in predictions] #Contain all the \"classes\" values from each dictionary in predictions."
      ],
      "metadata": {
        "colab": {
          "base_uri": "https://localhost:8080/"
        },
        "id": "54N_2i7fMFjR",
        "outputId": "69e00e4b-677c-4858-95e6-1318824f2da8"
      },
      "execution_count": 18,
      "outputs": [
        {
          "output_type": "stream",
          "name": "stderr",
          "text": [
            "INFO:tensorflow:Calling model_fn.\n",
            "INFO:tensorflow:Done calling model_fn.\n",
            "INFO:tensorflow:Graph was finalized.\n",
            "INFO:tensorflow:Restoring parameters from ongoing/train/model.ckpt-1000\n",
            "INFO:tensorflow:Running local_init_op.\n",
            "INFO:tensorflow:Done running local_init_op.\n"
          ]
        }
      ]
    },
    {
      "cell_type": "code",
      "source": [
        "#Converting labels_array & predicted_classes to Integer Data Type\n",
        "labels_array = tf.cast(labels_array, tf.int64)\n",
        "predicted_classes = tf.strings.to_number(predicted_classes, out_type=tf.int32)\n",
        "predicted_classes_int64_array = tf.cast(predicted_classes, dtype=tf.int64)"
      ],
      "metadata": {
        "id": "N_kuKHUCb9SI"
      },
      "execution_count": 19,
      "outputs": []
    },
    {
      "cell_type": "code",
      "source": [
        "#Initializing Confusion Matrix\n",
        "confusion_matrix = tf.math.confusion_matrix(\n",
        "    labels=labels_array,\n",
        "    predictions=predicted_classes,\n",
        "    num_classes=2)"
      ],
      "metadata": {
        "id": "oC3aESHbPqdf"
      },
      "execution_count": 20,
      "outputs": []
    },
    {
      "cell_type": "markdown",
      "source": [
        "![image.png](data:image/png;base64,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)"
      ],
      "metadata": {
        "id": "mafaI4GNmO8o"
      }
    },
    {
      "cell_type": "code",
      "source": [
        "#Plotting Confusion Matrix\n",
        "labels = ['<=50K', '>50K'] # replace with your class labels\n",
        "plt.figure(figsize=(8, 8))\n",
        "sns.heatmap(confusion_matrix, annot=True, fmt='d', cmap='Blues', xticklabels=labels, yticklabels=labels)\n",
        "plt.xlabel('Predicted labels')\n",
        "plt.ylabel('True labels')\n",
        "plt.show()"
      ],
      "metadata": {
        "colab": {
          "base_uri": "https://localhost:8080/",
          "height": 497
        },
        "id": "2OxwMTUFtY5t",
        "outputId": "0474170c-9fa1-4494-e3a9-dcef2aa5a5ca"
      },
      "execution_count": 21,
      "outputs": [
        {
          "output_type": "display_data",
          "data": {
            "text/plain": [
              "<Figure size 576x576 with 2 Axes>"
            ],
            "image/png": "[encoded data removed]"
          },
          "metadata": {
            "needs_background": "light"
          }
        }
      ]
    },
    {
      "cell_type": "code",
      "source": [
        "#Making Classification Report\n",
        "print(classification_report(\n",
        "  labels_array, \n",
        "  predicted_classes, \n",
        "  target_names=label, \n",
        "  zero_division=0\n",
        "))"
      ],
      "metadata": {
        "colab": {
          "base_uri": "https://localhost:8080/"
        },
        "id": "BhiKe237eGGW",
        "outputId": "a70f2587-0bc2-4ac1-b6bf-1798d4e4b045"
      },
      "execution_count": 22,
      "outputs": [
        {
          "output_type": "stream",
          "name": "stdout",
          "text": [
            "              precision    recall  f1-score   support\n",
            "\n",
            "       <=50K       0.80      0.98      0.88     12435\n",
            "        >50K       0.76      0.20      0.31      3846\n",
            "\n",
            "    accuracy                           0.80     16281\n",
            "   macro avg       0.78      0.59      0.60     16281\n",
            "weighted avg       0.79      0.80      0.75     16281\n",
            "\n"
          ]
        }
      ]
    },
    {
      "cell_type": "markdown",
      "source": [
        "\n",
        "\n",
        "1.   **Precision** refers to the number of true positives divided by the total number of positive predictions (i.e., the number of true positives plus the number of false positives)\n",
        "2.   **Recall** is refers to the number of true positives divided by the total number of actual positive in the sample (i.e., the number of true positives plus the number of false negative).\n",
        "3. **F1** score is a machine learning evaluation metric that measures a model's accuracy. It combines the precision and recall scores of a model. The accuracy metric computes how many times a model made a correct prediction across the entire dataset.\n",
        "4. **Specificity** predict a true negative of each category available.\n"
      ],
      "metadata": {
        "id": "xk0V_lD_r6on"
      }
    },
    {
      "cell_type": "markdown",
      "source": [
        "![image.png](data:image/png;base64,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)"
      ],
      "metadata": {
        "id": "xLutqMDgnAGZ"
      }
    },
    {
      "cell_type": "markdown",
      "source": [
        "**Model Improvement**"
      ],
      "metadata": {
        "id": "rbTy56eysfOq"
      }
    },
    {
      "cell_type": "code",
      "source": [
        "#Making Function to add new variable in Train and Test Data Set.\n",
        "#New Variable is Square of Age\n",
        "def square_var(df_t, df_te, var_name = 'age'):\n",
        "    df_t['new'] = df_t[var_name].pow(2) \n",
        "    df_te['new'] = df_te[var_name].pow(2) \n",
        "    return df_t, df_te"
      ],
      "metadata": {
        "id": "P9DicOpOwc-5"
      },
      "execution_count": 23,
      "outputs": []
    },
    {
      "cell_type": "code",
      "source": [
        "#Creating New Training and Test dataset having variable 'new' \n",
        "df_train_new, df_test_new = square_var(df_train, df_test, var_name = 'age')"
      ],
      "metadata": {
        "id": "XbpXNcxXw4cq"
      },
      "execution_count": 24,
      "outputs": []
    },
    {
      "cell_type": "code",
      "source": [
        "#Checking the shape of new training and test dataset\n",
        "print(df_train_new.shape, df_test_new.shape)\t\t\t"
      ],
      "metadata": {
        "colab": {
          "base_uri": "https://localhost:8080/"
        },
        "id": "CxovQagIw8zJ",
        "outputId": "0641a889-3229-49f2-d30a-a8f6094a8891"
      },
      "execution_count": 25,
      "outputs": [
        {
          "output_type": "stream",
          "name": "stdout",
          "text": [
            "(32561, 16) (16281, 16)\n"
          ]
        }
      ]
    },
    {
      "cell_type": "code",
      "source": [
        "#Adding variable 'new' to the list of continuous features\n",
        "CONTI_FEATURES_NEW  = ['age', 'fnlwgt','capital-gain', 'education-num', 'capital-loss', 'hours-per-week', 'new']\n",
        "continuous_features_new = [tf.feature_column.numeric_column(k) for k in CONTI_FEATURES_NEW]"
      ],
      "metadata": {
        "id": "eS77_j-7xcAZ"
      },
      "execution_count": 26,
      "outputs": []
    },
    {
      "cell_type": "code",
      "source": [
        "# New model will compute the weights of the columns contained in continuous_features_new and categorical_features_1.\n",
        "model_1 = tf.estimator.LinearClassifier(model_dir=\"ongoing/train1\", feature_columns=categorical_features_1+ continuous_features_new)"
      ],
      "metadata": {
        "colab": {
          "base_uri": "https://localhost:8080/"
        },
        "id": "78xWrV1TxpA2",
        "outputId": "081b6085-dd07-4bfb-898f-82447cf3277f"
      },
      "execution_count": 27,
      "outputs": [
        {
          "output_type": "stream",
          "name": "stderr",
          "text": [
            "INFO:tensorflow:Using default config.\n",
            "INFO:tensorflow:Using config: {'_model_dir': 'ongoing/train1', '_tf_random_seed': None, '_save_summary_steps': 100, '_save_checkpoints_steps': None, '_save_checkpoints_secs': 600, '_session_config': allow_soft_placement: true\n",
            "graph_options {\n",
            "  rewrite_options {\n",
            "    meta_optimizer_iterations: ONE\n",
            "  }\n",
            "}\n",
            ", '_keep_checkpoint_max': 5, '_keep_checkpoint_every_n_hours': 10000, '_log_step_count_steps': 100, '_train_distribute': None, '_device_fn': None, '_protocol': None, '_eval_distribute': None, '_experimental_distribute': None, '_experimental_max_worker_delay_secs': None, '_session_creation_timeout_secs': 7200, '_checkpoint_save_graph_def': True, '_service': None, '_cluster_spec': ClusterSpec({}), '_task_type': 'worker', '_task_id': 0, '_global_id_in_cluster': 0, '_master': '', '_evaluation_master': '', '_is_chief': True, '_num_ps_replicas': 0, '_num_worker_replicas': 1}\n"
          ]
        }
      ]
    },
    {
      "cell_type": "code",
      "source": [
        "#Creating a function with the arguments required by the linear estimator, i.e., \n",
        "#number of epochs, number of batches and shuffle the dataset or not\n",
        "FEATURES_NEW = ['age','workclass','fnlwgt','education','education-num','marital-status','occupation','relationship','race','sex','capital-gain','capital-loss','hours-per-week','native-country', 'new']\n",
        "#Label = 'label'\n",
        "def get_input_fn(data_set, num_epochs=None, n_batch = 128, shuffle=True):\n",
        "    return tf.compat.v1.estimator.inputs.pandas_input_fn(\n",
        "       x=pd.DataFrame({k: data_set[k].values for k in FEATURES_NEW}),\n",
        "       y = pd.Series(data_set[Label].values),\n",
        "       batch_size=n_batch,   \n",
        "       num_epochs=num_epochs,\n",
        "       shuffle=shuffle)"
      ],
      "metadata": {
        "id": "OJA_8ijGzi-7"
      },
      "execution_count": 28,
      "outputs": []
    },
    {
      "cell_type": "code",
      "source": [
        "#Training the new model useing the function defined above to feed the model with the appropriate values.\n",
        "#Model will be trained over 1000 steps\n",
        "model_1.train(input_fn=get_input_fn(df_train,num_epochs=None,n_batch=128,shuffle=False),steps=1000)"
      ],
      "metadata": {
        "colab": {
          "base_uri": "https://localhost:8080/"
        },
        "id": "UstYltG5xspZ",
        "outputId": "a4665989-a25f-4ad7-98f1-0199ed949ee9"
      },
      "execution_count": 29,
      "outputs": [
        {
          "output_type": "stream",
          "name": "stderr",
          "text": [
            "INFO:tensorflow:Calling model_fn.\n",
            "INFO:tensorflow:Done calling model_fn.\n",
            "INFO:tensorflow:Create CheckpointSaverHook.\n",
            "INFO:tensorflow:Graph was finalized.\n",
            "INFO:tensorflow:Running local_init_op.\n",
            "INFO:tensorflow:Done running local_init_op.\n",
            "INFO:tensorflow:Calling checkpoint listeners before saving checkpoint 0...\n",
            "INFO:tensorflow:Saving checkpoints for 0 into ongoing/train1/model.ckpt.\n",
            "INFO:tensorflow:Calling checkpoint listeners after saving checkpoint 0...\n",
            "INFO:tensorflow:loss = 0.6931472, step = 0\n",
            "INFO:tensorflow:global_step/sec: 142.274\n",
            "INFO:tensorflow:loss = 606.06586, step = 100 (0.709 sec)\n",
            "INFO:tensorflow:global_step/sec: 251.89\n",
            "INFO:tensorflow:loss = 260.04898, step = 200 (0.394 sec)\n",
            "INFO:tensorflow:global_step/sec: 218.957\n",
            "INFO:tensorflow:loss = 838.8059, step = 300 (0.461 sec)\n",
            "INFO:tensorflow:global_step/sec: 245.947\n",
            "INFO:tensorflow:loss = 97.00019, step = 400 (0.401 sec)\n",
            "INFO:tensorflow:global_step/sec: 231.355\n",
            "INFO:tensorflow:loss = 119.83975, step = 500 (0.437 sec)\n",
            "INFO:tensorflow:global_step/sec: 242.792\n",
            "INFO:tensorflow:loss = 98.53953, step = 600 (0.410 sec)\n",
            "INFO:tensorflow:global_step/sec: 231.027\n",
            "INFO:tensorflow:loss = 234.34648, step = 700 (0.434 sec)\n",
            "INFO:tensorflow:global_step/sec: 236.94\n",
            "INFO:tensorflow:loss = 194.13525, step = 800 (0.419 sec)\n",
            "INFO:tensorflow:global_step/sec: 232.469\n",
            "INFO:tensorflow:loss = 303.1703, step = 900 (0.435 sec)\n",
            "INFO:tensorflow:Calling checkpoint listeners before saving checkpoint 1000...\n",
            "INFO:tensorflow:Saving checkpoints for 1000 into ongoing/train1/model.ckpt.\n",
            "INFO:tensorflow:Calling checkpoint listeners after saving checkpoint 1000...\n",
            "INFO:tensorflow:Loss for final step: 225.15822.\n"
          ]
        },
        {
          "output_type": "execute_result",
          "data": {
            "text/plain": [
              "<tensorflow_estimator.python.estimator.canned.linear.LinearClassifierV2 at 0x7f7133bc7ac0>"
            ]
          },
          "metadata": {},
          "execution_count": 29
        }
      ]
    },
    {
      "cell_type": "code",
      "source": [
        "#feeding the new model with the test set and set the number of epochs to 1, i.e., the data will go to the model only one time\n",
        "model_1.evaluate(input_fn=get_input_fn(df_test_new,num_epochs=1,n_batch = 128,shuffle=False),steps=1000)"
      ],
      "metadata": {
        "colab": {
          "base_uri": "https://localhost:8080/"
        },
        "id": "wX8OW-7l5qI5",
        "outputId": "a1742c85-7e67-478d-d344-48fbf9420d9d"
      },
      "execution_count": 30,
      "outputs": [
        {
          "output_type": "stream",
          "name": "stderr",
          "text": [
            "INFO:tensorflow:Calling model_fn.\n",
            "INFO:tensorflow:Done calling model_fn.\n",
            "INFO:tensorflow:Starting evaluation at 2023-03-14T14:33:04\n",
            "INFO:tensorflow:Graph was finalized.\n",
            "INFO:tensorflow:Restoring parameters from ongoing/train1/model.ckpt-1000\n",
            "INFO:tensorflow:Running local_init_op.\n",
            "INFO:tensorflow:Done running local_init_op.\n",
            "INFO:tensorflow:Evaluation [100/1000]\n",
            "INFO:tensorflow:Inference Time : 1.81816s\n",
            "INFO:tensorflow:Finished evaluation at 2023-03-14-14:33:05\n",
            "INFO:tensorflow:Saving dict for global step 1000: accuracy = 0.7932559, accuracy_baseline = 0.76377374, auc = 0.6111148, auc_precision_recall = 0.3999272, average_loss = 114.120926, global_step = 1000, label/mean = 0.23622628, loss = 113.88951, precision = 0.6546392, prediction/mean = 0.095264405, recall = 0.26417056\n",
            "INFO:tensorflow:Saving 'checkpoint_path' summary for global step 1000: ongoing/train1/model.ckpt-1000\n"
          ]
        },
        {
          "output_type": "execute_result",
          "data": {
            "text/plain": [
              "{'accuracy': 0.7932559,\n",
              " 'accuracy_baseline': 0.76377374,\n",
              " 'auc': 0.6111148,\n",
              " 'auc_precision_recall': 0.3999272,\n",
              " 'average_loss': 114.120926,\n",
              " 'label/mean': 0.23622628,\n",
              " 'loss': 113.88951,\n",
              " 'precision': 0.6546392,\n",
              " 'prediction/mean': 0.095264405,\n",
              " 'recall': 0.26417056,\n",
              " 'global_step': 1000}"
            ]
          },
          "metadata": {},
          "execution_count": 30
        }
      ]
    },
    {
      "cell_type": "markdown",
      "source": [
        "**Explanation of each of the metrics:**\n",
        "\n",
        "**accuracy:** This represents the percentage of correctly \n",
        "classified instances in the test set. In this case, the accuracy is 79.32%.\n",
        "\n",
        "**accuracy_baseline:** This represents the accuracy of a baseline model that always predicts the majority class. In this case, the majority class appears to be the negative class (label 0) and the accuracy baseline is 76.38%.\n",
        "\n",
        "**auc:** This represents the Area Under the Receiver Operating Characteristic Curve (ROC AUC). It measures the performance of the model in distinguishing between the positive and negative classes. The AUC ranges from 0 to 1, with a higher value indicating better performance. In this case, the AUC is 0.61.\n",
        "\n",
        "**auc_precision_recall:** This represents the area under the precision-recall curve. It measures the trade-off between precision and recall, and is particularly useful when the classes are imbalanced. In this case, the AUC precision-recall is 0.40.\n",
        "\n",
        "**average_loss:** This represents the average loss per instance during training. The loss function measures how well the model is able to predict the correct label. In this case, the average loss is 114.12.\n",
        "\n",
        "**label/mean:** This represents the proportion of positive labels in the test set. In this case, the proportion of positive labels is 23.62%.\n",
        "\n",
        "**loss:** This represents the total loss over the entire test set. In this case, the total loss is 113.89.\n",
        "\n",
        "**precision:** This represents the percentage of correctly predicted positive instances out of all instances predicted as positive. In this case, the precision is 65.46%.\n",
        "\n",
        "**prediction/mean:** This represents the mean prediction of the model over the test set. In this case, the mean prediction is 0.095.\n",
        "\n",
        "**recall:** This represents the percentage of correctly predicted positive instances out of all positive instances in the test set. In this case, the recall is 26.42%.\n",
        "\n",
        "**global_step**: This represents the number of training steps performed during training. In this case, the model has been trained for 1000 steps.\n"
      ],
      "metadata": {
        "id": "t5WJ1A-8kwFc"
      }
    },
    {
      "cell_type": "code",
      "source": [
        "#Converting Labels to Array in new test dataset\n",
        "labels_array = np.array(df_test_new.label)\n",
        "labels_array"
      ],
      "metadata": {
        "colab": {
          "base_uri": "https://localhost:8080/"
        },
        "id": "_JdbAfv-u8Co",
        "outputId": "4976f1c4-fe0c-47e4-89bf-8fb4ac0c4b7e"
      },
      "execution_count": 31,
      "outputs": [
        {
          "output_type": "execute_result",
          "data": {
            "text/plain": [
              "array([0, 0, 1, ..., 0, 0, 1])"
            ]
          },
          "metadata": {},
          "execution_count": 31
        }
      ]
    },
    {
      "cell_type": "code",
      "source": [
        "#Calculating Predictions on new test dataset\n",
        "predictions_new = model_1.predict(input_fn=get_input_fn(df_test,num_epochs=1,n_batch=128,shuffle=False))\n",
        "predicted_classes_new = [p[\"classes\"] for p in predictions_new] #Contain all the \"classes\" values from each dictionary in predictions."
      ],
      "metadata": {
        "colab": {
          "base_uri": "https://localhost:8080/"
        },
        "id": "ItBOfVV8vTVh",
        "outputId": "020b6ad9-fa88-43c7-ccc0-8f4dcb6d1bd5"
      },
      "execution_count": 32,
      "outputs": [
        {
          "output_type": "stream",
          "name": "stderr",
          "text": [
            "INFO:tensorflow:Calling model_fn.\n",
            "INFO:tensorflow:Done calling model_fn.\n",
            "INFO:tensorflow:Graph was finalized.\n",
            "INFO:tensorflow:Restoring parameters from ongoing/train1/model.ckpt-1000\n",
            "INFO:tensorflow:Running local_init_op.\n",
            "INFO:tensorflow:Done running local_init_op.\n"
          ]
        }
      ]
    },
    {
      "cell_type": "code",
      "source": [
        "#Converting labels_array & predicted_classes to Integer Data Type\n",
        "labels_array_1 = tf.cast(labels_array, tf.int64)\n",
        "predicted_classes_new = tf.strings.to_number(predicted_classes_new, out_type=tf.int32)\n",
        "predicted_classes_new_int64_array = tf.cast(predicted_classes_new, dtype=tf.int64)"
      ],
      "metadata": {
        "id": "AcP47kHrvktr"
      },
      "execution_count": 33,
      "outputs": []
    },
    {
      "cell_type": "code",
      "source": [
        "#Initializing Confusion Matrix\n",
        "confusion_matrix_new = tf.math.confusion_matrix(\n",
        "    labels=labels_array_1,\n",
        "    predictions=predicted_classes_new,\n",
        "    num_classes=2)"
      ],
      "metadata": {
        "id": "ipbOM4b_vtYh"
      },
      "execution_count": 34,
      "outputs": []
    },
    {
      "cell_type": "code",
      "source": [
        "#Plotting Confusion Matrix\n",
        "labels = ['<=50K', '>50K'] # replace with your class labels\n",
        "plt.figure(figsize=(8, 8))\n",
        "sns.heatmap(confusion_matrix_new, annot=True, fmt='d', cmap='Blues', xticklabels=labels, yticklabels=labels)\n",
        "plt.xlabel('Predicted labels')\n",
        "plt.ylabel('True labels')\n",
        "plt.show()"
      ],
      "metadata": {
        "colab": {
          "base_uri": "https://localhost:8080/",
          "height": 497
        },
        "id": "dwywLJzlvyvS",
        "outputId": "2cd048c7-2573-4148-88d7-c58622ddad13"
      },
      "execution_count": 35,
      "outputs": [
        {
          "output_type": "display_data",
          "data": {
            "text/plain": [
              "<Figure size 576x576 with 2 Axes>"
            ],
            "image/png": "[encoded data removed]"
          },
          "metadata": {
            "needs_background": "light"
          }
        }
      ]
    },
    {
      "cell_type": "code",
      "source": [
        "#Making Classification Report\n",
        "print(classification_report(\n",
        "  labels_array_1, \n",
        "  predicted_classes_new, \n",
        "  target_names=label, \n",
        "  zero_division=0\n",
        "))"
      ],
      "metadata": {
        "colab": {
          "base_uri": "https://localhost:8080/"
        },
        "id": "OpUN8cBrwAOX",
        "outputId": "e8149a0d-a644-4cb7-d536-bc1f6e5d63c8"
      },
      "execution_count": 36,
      "outputs": [
        {
          "output_type": "stream",
          "name": "stdout",
          "text": [
            "              precision    recall  f1-score   support\n",
            "\n",
            "       <=50K       0.81      0.96      0.88     12435\n",
            "        >50K       0.65      0.26      0.38      3846\n",
            "\n",
            "    accuracy                           0.79     16281\n",
            "   macro avg       0.73      0.61      0.63     16281\n",
            "weighted avg       0.77      0.79      0.76     16281\n",
            "\n"
          ]
        }
      ]
    },
    {
      "cell_type": "markdown",
      "source": [
        "Comparing the two models based on their performance metrics, below are the following conclusions:\n",
        "\n",
        "**accuracy:** Both models have similar accuracy scores, with first model having a slightly higher accuracy of 0.795 compared to Model_1's accuracy of 0.793.\n",
        "\n",
        "**auc:** Model 1 has a higher AUC score of 0.611 compared to first model's AUC of 0.589, indicating that Model 1 has better discrimination ability.\n",
        "\n",
        "**auc_precision_recall:** Model 1 has a higher AUCPR score of 0.400 compared to first model's AUCPR of 0.394, indicating that Model 1 has a better ability to identify positive samples while maintaining a high precision.\n",
        "\n",
        "**average_loss:** first model has a higher average loss score of 192.119 compared to Model 1's average loss of 114.121, indicating that first model has higher prediction errors.\n",
        "\n",
        "**precision:** first model has a higher precision score of 0.758 compared to Model 1's precision of 0.655, indicating that first model has a better ability to correctly predict positive samples.\n",
        "\n",
        "**recall:** Model 1 has a higher recall score of 0.264 compared to first model's recall of 0.196, indicating that Model 1 has a better ability to correctly identify positive samples.\n",
        "\n",
        "Overall, it appears that Model 1 has better discrimination ability and recall, while first model has better precision. Additionally, Model 1 has lower prediction errors compared to first model. "
      ],
      "metadata": {
        "id": "yFu1CBoHxe4u"
      }
    }
  ]
}